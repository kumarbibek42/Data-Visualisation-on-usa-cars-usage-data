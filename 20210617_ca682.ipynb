{
 "cells": [
  {
   "cell_type": "code",
   "execution_count": 1,
   "metadata": {},
   "outputs": [],
   "source": [
    "# Data visualisation\n",
    "# By Bibek Gupta"
   ]
  },
  {
   "cell_type": "code",
   "execution_count": 2,
   "metadata": {},
   "outputs": [],
   "source": [
    "# Load the Pandas libraries with alias 'pd' \n",
    "import pandas as pd\n",
    "import numpy as np\n",
    "import dask.dataframe as dd\n",
    "import matplotlib.pyplot as plt\n",
    "%matplotlib inline\n",
    "import seaborn as sns\n",
    "import ipywidgets as widgets\n",
    "from ipywidgets import interact, interactive, fixed, interact_manual, IntSlider, SelectMultiple\n",
    "import warnings\n",
    "warnings.filterwarnings(\"ignore\",category=UserWarning)\n",
    "plt.style.use('seaborn-whitegrid')"
   ]
  },
  {
   "cell_type": "code",
   "execution_count": 3,
   "metadata": {},
   "outputs": [
    {
     "name": "stdout",
     "output_type": "stream",
     "text": [
      "['Solarize_Light2', '_classic_test_patch', 'bmh', 'classic', 'dark_background', 'fast', 'fivethirtyeight', 'ggplot', 'grayscale', 'seaborn', 'seaborn-bright', 'seaborn-colorblind', 'seaborn-dark', 'seaborn-dark-palette', 'seaborn-darkgrid', 'seaborn-deep', 'seaborn-muted', 'seaborn-notebook', 'seaborn-paper', 'seaborn-pastel', 'seaborn-poster', 'seaborn-talk', 'seaborn-ticks', 'seaborn-white', 'seaborn-whitegrid', 'tableau-colorblind10']\n"
     ]
    }
   ],
   "source": [
    "# Looking for inbuilt styles available\n",
    "print(plt.style.available)"
   ]
  },
  {
   "cell_type": "code",
   "execution_count": 4,
   "metadata": {},
   "outputs": [],
   "source": [
    "# Constants declaration\n",
    "max_no_of_companies = 5\n",
    "default_company = 'Volkswagen'\n",
    "default_start_year = 2010\n",
    "max_year = 2021\n",
    "years_to_consider = [2012, 2013, 2014, 2015, 2016, 2017, 2018]\n",
    "width_of_bar = 0.75\n",
    "lables_font_size = 14\n",
    "xlab = 'No of Volkswagen cars usage'\n",
    "ylab = 'Year'\n",
    "title_value = 'Volkswagen cars usage in USA by year'\n"
   ]
  },
  {
   "cell_type": "code",
   "execution_count": 5,
   "metadata": {},
   "outputs": [
    {
     "name": "stdout",
     "output_type": "stream",
     "text": [
      "Wall time: 216 ms\n"
     ]
    }
   ],
   "source": [
    "%%time\n",
    "# Read the dataset\n",
    "df = dd.read_csv('used_cars_data.csv', assume_missing=True, low_memory=False, dtype={'bed': 'object',\n",
    "       'cabin': 'object', 'dealer_zip': 'object'})"
   ]
  },
  {
   "cell_type": "code",
   "execution_count": 6,
   "metadata": {},
   "outputs": [
    {
     "name": "stdout",
     "output_type": "stream",
     "text": [
      "Wall time: 2 ms\n"
     ]
    }
   ],
   "source": [
    "%%time\n",
    "# Filter only required columns\n",
    "df = df[['vin', 'make_name','year']]"
   ]
  },
  {
   "cell_type": "code",
   "execution_count": 7,
   "metadata": {},
   "outputs": [
    {
     "name": "stdout",
     "output_type": "stream",
     "text": [
      "Wall time: 5.01 ms\n"
     ]
    },
    {
     "data": {
      "text/html": [
       "<div><strong>Dask DataFrame Structure:</strong></div>\n",
       "<div>\n",
       "<style scoped>\n",
       "    .dataframe tbody tr th:only-of-type {\n",
       "        vertical-align: middle;\n",
       "    }\n",
       "\n",
       "    .dataframe tbody tr th {\n",
       "        vertical-align: top;\n",
       "    }\n",
       "\n",
       "    .dataframe thead th {\n",
       "        text-align: right;\n",
       "    }\n",
       "</style>\n",
       "<table border=\"1\" class=\"dataframe\">\n",
       "  <thead>\n",
       "    <tr style=\"text-align: right;\">\n",
       "      <th></th>\n",
       "      <th>vin</th>\n",
       "      <th>make_name</th>\n",
       "      <th>year</th>\n",
       "    </tr>\n",
       "    <tr>\n",
       "      <th>npartitions=1</th>\n",
       "      <th></th>\n",
       "      <th></th>\n",
       "      <th></th>\n",
       "    </tr>\n",
       "  </thead>\n",
       "  <tbody>\n",
       "    <tr>\n",
       "      <th></th>\n",
       "      <td>object</td>\n",
       "      <td>object</td>\n",
       "      <td>float64</td>\n",
       "    </tr>\n",
       "    <tr>\n",
       "      <th></th>\n",
       "      <td>...</td>\n",
       "      <td>...</td>\n",
       "      <td>...</td>\n",
       "    </tr>\n",
       "  </tbody>\n",
       "</table>\n",
       "</div>\n",
       "<div>Dask Name: drop-duplicates-agg, 492 tasks</div>"
      ],
      "text/plain": [
       "Dask DataFrame Structure:\n",
       "                  vin make_name     year\n",
       "npartitions=1                           \n",
       "               object    object  float64\n",
       "                  ...       ...      ...\n",
       "Dask Name: drop-duplicates-agg, 492 tasks"
      ]
     },
     "execution_count": 7,
     "metadata": {},
     "output_type": "execute_result"
    }
   ],
   "source": [
    "%%time\n",
    "# Drop duplicate rows\n",
    "df.drop_duplicates(subset=['vin'])"
   ]
  },
  {
   "cell_type": "code",
   "execution_count": 8,
   "metadata": {},
   "outputs": [],
   "source": [
    "# Fill null's with 0 and covert the column to int64\n",
    "df['year_in_int'] = dd.to_numeric(df['year'], errors='coerce').fillna(0).astype(np.int64)"
   ]
  },
  {
   "cell_type": "code",
   "execution_count": 9,
   "metadata": {},
   "outputs": [
    {
     "name": "stdout",
     "output_type": "stream",
     "text": [
      "Index(['vin', 'make_name', 'year', 'year_in_int'], dtype='object')\n"
     ]
    }
   ],
   "source": [
    "print (df.columns)"
   ]
  },
  {
   "cell_type": "code",
   "execution_count": 10,
   "metadata": {},
   "outputs": [
    {
     "name": "stdout",
     "output_type": "stream",
     "text": [
      "Wall time: 2.02 ms\n"
     ]
    }
   ],
   "source": [
    "%%time\n",
    "# Filter just Volkswagen's data\n",
    "df1 = df[df['make_name'] == default_company]"
   ]
  },
  {
   "cell_type": "code",
   "execution_count": 12,
   "metadata": {},
   "outputs": [],
   "source": [
    "# Filter data greater than 2010\n",
    "df1 = df1[df1['year_in_int'] >= default_start_year]"
   ]
  },
  {
   "cell_type": "code",
   "execution_count": 13,
   "metadata": {},
   "outputs": [],
   "source": [
    "# Filter comparision data for 2012 to 2018\n",
    "df_for_compare_volkswagon = df[df['year_in_int'].isin(years_to_consider)]"
   ]
  },
  {
   "cell_type": "code",
   "execution_count": 14,
   "metadata": {},
   "outputs": [
    {
     "name": "stdout",
     "output_type": "stream",
     "text": [
      "Wall time: 3min 4s\n"
     ]
    },
    {
     "data": {
      "text/plain": [
       "(970221, 4)"
      ]
     },
     "execution_count": 14,
     "metadata": {},
     "output_type": "execute_result"
    }
   ],
   "source": [
    "%%time\n",
    "# Convert dask dataframe to pandas\n",
    "pd_df_for_compare_volkswagon = df_for_compare_volkswagon.compute()\n",
    "pd_df_for_compare_volkswagon.shape"
   ]
  },
  {
   "cell_type": "code",
   "execution_count": 15,
   "metadata": {},
   "outputs": [
    {
     "name": "stdout",
     "output_type": "stream",
     "text": [
      "['Volkswagen' 'Ford' 'Chevrolet' 'Toyota' 'Nissan']\n"
     ]
    }
   ],
   "source": [
    "# Get top car manufacturers\n",
    "top_car_makers = pd_df_for_compare_volkswagon['make_name'].value_counts()\n",
    "# Filter top 4 manufacturers\n",
    "top_car_makers_other_than_default = top_car_makers.nlargest(max_no_of_companies - 1).index\n",
    "top_num_array = top_car_makers_other_than_default.to_numpy()\n",
    "# Adding Volkswagen for comparision\n",
    "numArray = np.insert(top_num_array, 0, [default_company])\n",
    "print(numArray)\n"
   ]
  },
  {
   "cell_type": "code",
   "execution_count": 16,
   "metadata": {},
   "outputs": [
    {
     "data": {
      "text/html": [
       "<div>\n",
       "<style scoped>\n",
       "    .dataframe tbody tr th:only-of-type {\n",
       "        vertical-align: middle;\n",
       "    }\n",
       "\n",
       "    .dataframe tbody tr th {\n",
       "        vertical-align: top;\n",
       "    }\n",
       "\n",
       "    .dataframe thead th {\n",
       "        text-align: right;\n",
       "    }\n",
       "</style>\n",
       "<table border=\"1\" class=\"dataframe\">\n",
       "  <thead>\n",
       "    <tr style=\"text-align: right;\">\n",
       "      <th></th>\n",
       "      <th>vin</th>\n",
       "      <th>make_name</th>\n",
       "      <th>year</th>\n",
       "      <th>year_in_int</th>\n",
       "    </tr>\n",
       "  </thead>\n",
       "  <tbody>\n",
       "    <tr>\n",
       "      <th>2</th>\n",
       "      <td>JF1VA2M67G9829723</td>\n",
       "      <td>Subaru</td>\n",
       "      <td>2016.0</td>\n",
       "      <td>2016</td>\n",
       "    </tr>\n",
       "    <tr>\n",
       "      <th>10</th>\n",
       "      <td>ZARBAAC41FM129303</td>\n",
       "      <td>Alfa Romeo</td>\n",
       "      <td>2015.0</td>\n",
       "      <td>2015</td>\n",
       "    </tr>\n",
       "    <tr>\n",
       "      <th>12</th>\n",
       "      <td>WBA8B7C53GK368522</td>\n",
       "      <td>BMW</td>\n",
       "      <td>2016.0</td>\n",
       "      <td>2016</td>\n",
       "    </tr>\n",
       "    <tr>\n",
       "      <th>36</th>\n",
       "      <td>KMHD84LFXHU271438</td>\n",
       "      <td>Hyundai</td>\n",
       "      <td>2017.0</td>\n",
       "      <td>2017</td>\n",
       "    </tr>\n",
       "    <tr>\n",
       "      <th>38</th>\n",
       "      <td>1G1ZD5ST5JF222895</td>\n",
       "      <td>Chevrolet</td>\n",
       "      <td>2018.0</td>\n",
       "      <td>2018</td>\n",
       "    </tr>\n",
       "  </tbody>\n",
       "</table>\n",
       "</div>"
      ],
      "text/plain": [
       "                  vin   make_name    year  year_in_int\n",
       "2   JF1VA2M67G9829723      Subaru  2016.0         2016\n",
       "10  ZARBAAC41FM129303  Alfa Romeo  2015.0         2015\n",
       "12  WBA8B7C53GK368522         BMW  2016.0         2016\n",
       "36  KMHD84LFXHU271438     Hyundai  2017.0         2017\n",
       "38  1G1ZD5ST5JF222895   Chevrolet  2018.0         2018"
      ]
     },
     "execution_count": 16,
     "metadata": {},
     "output_type": "execute_result"
    }
   ],
   "source": [
    "pd_df_for_compare_volkswagon.head()"
   ]
  },
  {
   "cell_type": "code",
   "execution_count": 17,
   "metadata": {},
   "outputs": [
    {
     "name": "stdout",
     "output_type": "stream",
     "text": [
      "Wall time: 2min 28s\n"
     ]
    }
   ],
   "source": [
    "%%time\n",
    "# Convert dask dataframe to pandas\n",
    "pdDf = df1.compute()"
   ]
  },
  {
   "cell_type": "code",
   "execution_count": 18,
   "metadata": {},
   "outputs": [
    {
     "data": {
      "text/plain": [
       "(73894, 4)"
      ]
     },
     "execution_count": 18,
     "metadata": {},
     "output_type": "execute_result"
    }
   ],
   "source": [
    "# Check Shape of data\n",
    "pdDf.shape"
   ]
  },
  {
   "cell_type": "code",
   "execution_count": 19,
   "metadata": {},
   "outputs": [
    {
     "data": {
      "text/html": [
       "<div>\n",
       "<style scoped>\n",
       "    .dataframe tbody tr th:only-of-type {\n",
       "        vertical-align: middle;\n",
       "    }\n",
       "\n",
       "    .dataframe tbody tr th {\n",
       "        vertical-align: top;\n",
       "    }\n",
       "\n",
       "    .dataframe thead th {\n",
       "        text-align: right;\n",
       "    }\n",
       "</style>\n",
       "<table border=\"1\" class=\"dataframe\">\n",
       "  <thead>\n",
       "    <tr style=\"text-align: right;\">\n",
       "      <th></th>\n",
       "      <th>vin</th>\n",
       "      <th>make_name</th>\n",
       "      <th>year</th>\n",
       "      <th>year_in_int</th>\n",
       "    </tr>\n",
       "  </thead>\n",
       "  <tbody>\n",
       "    <tr>\n",
       "      <th>172</th>\n",
       "      <td>WVGSV7AXXHK031394</td>\n",
       "      <td>Volkswagen</td>\n",
       "      <td>2017.0</td>\n",
       "      <td>2017</td>\n",
       "    </tr>\n",
       "    <tr>\n",
       "      <th>263</th>\n",
       "      <td>3VW447AU9JM257055</td>\n",
       "      <td>Volkswagen</td>\n",
       "      <td>2018.0</td>\n",
       "      <td>2018</td>\n",
       "    </tr>\n",
       "    <tr>\n",
       "      <th>334</th>\n",
       "      <td>1VWGT7A34HC050446</td>\n",
       "      <td>Volkswagen</td>\n",
       "      <td>2017.0</td>\n",
       "      <td>2017</td>\n",
       "    </tr>\n",
       "    <tr>\n",
       "      <th>487</th>\n",
       "      <td>WVWDB7AJ3DW071482</td>\n",
       "      <td>Volkswagen</td>\n",
       "      <td>2013.0</td>\n",
       "      <td>2013</td>\n",
       "    </tr>\n",
       "    <tr>\n",
       "      <th>534</th>\n",
       "      <td>3VW4T7AJ6GM344767</td>\n",
       "      <td>Volkswagen</td>\n",
       "      <td>2016.0</td>\n",
       "      <td>2016</td>\n",
       "    </tr>\n",
       "    <tr>\n",
       "      <th>535</th>\n",
       "      <td>3VWYT7AU6GM011643</td>\n",
       "      <td>Volkswagen</td>\n",
       "      <td>2016.0</td>\n",
       "      <td>2016</td>\n",
       "    </tr>\n",
       "    <tr>\n",
       "      <th>564</th>\n",
       "      <td>3VWD17AJXFM239945</td>\n",
       "      <td>Volkswagen</td>\n",
       "      <td>2015.0</td>\n",
       "      <td>2015</td>\n",
       "    </tr>\n",
       "    <tr>\n",
       "      <th>571</th>\n",
       "      <td>WVWSR7AN8KE025364</td>\n",
       "      <td>Volkswagen</td>\n",
       "      <td>2019.0</td>\n",
       "      <td>2019</td>\n",
       "    </tr>\n",
       "    <tr>\n",
       "      <th>581</th>\n",
       "      <td>3VW2B7AJ9HM394719</td>\n",
       "      <td>Volkswagen</td>\n",
       "      <td>2017.0</td>\n",
       "      <td>2017</td>\n",
       "    </tr>\n",
       "    <tr>\n",
       "      <th>632</th>\n",
       "      <td>3VWD17AJ1EM235068</td>\n",
       "      <td>Volkswagen</td>\n",
       "      <td>2014.0</td>\n",
       "      <td>2014</td>\n",
       "    </tr>\n",
       "  </tbody>\n",
       "</table>\n",
       "</div>"
      ],
      "text/plain": [
       "                   vin   make_name    year  year_in_int\n",
       "172  WVGSV7AXXHK031394  Volkswagen  2017.0         2017\n",
       "263  3VW447AU9JM257055  Volkswagen  2018.0         2018\n",
       "334  1VWGT7A34HC050446  Volkswagen  2017.0         2017\n",
       "487  WVWDB7AJ3DW071482  Volkswagen  2013.0         2013\n",
       "534  3VW4T7AJ6GM344767  Volkswagen  2016.0         2016\n",
       "535  3VWYT7AU6GM011643  Volkswagen  2016.0         2016\n",
       "564  3VWD17AJXFM239945  Volkswagen  2015.0         2015\n",
       "571  WVWSR7AN8KE025364  Volkswagen  2019.0         2019\n",
       "581  3VW2B7AJ9HM394719  Volkswagen  2017.0         2017\n",
       "632  3VWD17AJ1EM235068  Volkswagen  2014.0         2014"
      ]
     },
     "execution_count": 19,
     "metadata": {},
     "output_type": "execute_result"
    }
   ],
   "source": [
    "pdDf.head(10)"
   ]
  },
  {
   "cell_type": "code",
   "execution_count": 20,
   "metadata": {},
   "outputs": [
    {
     "data": {
      "application/vnd.jupyter.widget-view+json": {
       "model_id": "8c6dc767f98f4884b671c24760e2f49b",
       "version_major": 2,
       "version_minor": 0
      },
      "text/plain": [
       "interactive(children=(IntSlider(value=2010, continuous_update=False, description='Start Year:', max=2020, min=…"
      ]
     },
     "metadata": {},
     "output_type": "display_data"
    },
    {
     "data": {
      "text/plain": [
       "<function __main__.interact_plot_with_start_year(start_year)>"
      ]
     },
     "execution_count": 20,
     "metadata": {},
     "output_type": "execute_result"
    }
   ],
   "source": [
    "# Slider Widget\n",
    "slider = IntSlider(value=default_start_year,\n",
    "                              min=default_start_year,\n",
    "                              max=2020,\n",
    "                              step=1,\n",
    "                              description='Start Year:',\n",
    "                              disabled=False,\n",
    "                              continuous_update=False,\n",
    "                              orientation='horizontal',\n",
    "                              readout=True,\n",
    "                              readout_format='d')\n",
    "# 1st graph code\n",
    "def interact_plot_with_start_year(start_year):\n",
    "    current_visualisation_df = pdDf[pdDf['year_in_int'] >= start_year]\n",
    "    current_visualisation_df = current_visualisation_df['year_in_int'].value_counts().sort_index()\n",
    "    plt.rcParams['figure.figsize'] = (15,6)\n",
    "    barlist = plt.barh(current_visualisation_df.index, current_visualisation_df, width_of_bar)\n",
    "    # Mark 2015 with different colour\n",
    "    if start_year <= 2015:\n",
    "        barlist[2015-start_year].set_color('k')\n",
    "    ax = plt.gca()\n",
    "    ymin, ymax = ax.get_ylim()\n",
    "    custom_ticks = np.linspace(ymin+1, ymax, max_year - start_year + 1, dtype=int)\n",
    "    ax.set_yticks(custom_ticks)\n",
    "    ax.set_yticklabels(custom_ticks)\n",
    "        \n",
    "    plt.axes().yaxis.grid() # vertical lines\n",
    "    plt.xlabel(xlab, fontsize=lables_font_size, labelpad=14)\n",
    "    plt.ylabel(ylab, fontsize=lables_font_size, labelpad=14)\n",
    "    plt.title(title_value, fontsize=lables_font_size+2, y=1.02)\n",
    "    plt.savefig('horizontal_bar.png')\n",
    "interact(interact_plot_with_start_year, start_year = slider)\n"
   ]
  },
  {
   "cell_type": "code",
   "execution_count": 21,
   "metadata": {},
   "outputs": [
    {
     "data": {
      "application/vnd.jupyter.widget-view+json": {
       "model_id": "3c0ab497ec4a49a2920b973b42b62452",
       "version_major": 2,
       "version_minor": 0
      },
      "text/plain": [
       "interactive(children=(SelectMultiple(description='Select item:', index=(0, 1, 2, 3), options=('Chevrolet', 'Fo…"
      ]
     },
     "metadata": {},
     "output_type": "display_data"
    },
    {
     "data": {
      "text/plain": [
       "<function __main__.get_selected_items(items)>"
      ]
     },
     "execution_count": 21,
     "metadata": {},
     "output_type": "execute_result"
    }
   ],
   "source": [
    "# 2nd graph constants\n",
    "title_value_second = 'Comparison of car usage for the years 2012 to 2018'\n",
    "y_lab_second = 'No of cars usage'\n",
    "select_items = sorted(top_num_array.tolist())\n",
    "\n",
    "# Multi select Widget\n",
    "multi_select = SelectMultiple(\n",
    "    options=select_items,\n",
    "    value=select_items,\n",
    "    description='Select item:',\n",
    "    disabled=False\n",
    ")\n",
    "# 2nd graph code\n",
    "def get_selected_items(items):\n",
    "    list_of_items = list(items)\n",
    "    list_of_items.insert(0, default_company)\n",
    "    items = tuple(list_of_items)\n",
    "    final_sales_count_by_year = []\n",
    "    plt.rcParams['figure.figsize'] = (15,6)\n",
    "    for company in items:\n",
    "        current_df = pd_df_for_compare_volkswagon[pd_df_for_compare_volkswagon['make_name'] == company]\n",
    "        row_count_by_company = []\n",
    "        for j in range(len(years_to_consider)):\n",
    "            temp_df = current_df[current_df['year'] == years_to_consider[j]]\n",
    "            row, col = temp_df.shape\n",
    "            row_count_by_company.append(row)\n",
    "        final_sales_count_by_year.append(row_count_by_company)\n",
    "    dict_for_bar_chart = {}\n",
    "    for i in range(len(items)):\n",
    "        dict_for_bar_chart[items[i]] = final_sales_count_by_year[i]\n",
    "    compare_df = pd.DataFrame(dict_for_bar_chart, index=years_to_consider)\n",
    "    my_plot = compare_df.plot.bar(rot=0)\n",
    "    plt.axes().xaxis.grid()\n",
    "    plt.xlabel(ylab, fontsize=lables_font_size, labelpad=14)\n",
    "    plt.ylabel(y_lab_second, fontsize=lables_font_size, labelpad=14)\n",
    "    plt.title(title_value_second, fontsize=lables_font_size+2, fontweight=1,y=1.02)\n",
    "    plt.savefig('second_bar.png')\n",
    "interact(get_selected_items, items = multi_select)\n"
   ]
  },
  {
   "cell_type": "code",
   "execution_count": null,
   "metadata": {},
   "outputs": [],
   "source": [
    "\n",
    "# chunk_size = 200000\n",
    "# batch_no = 1\n",
    "# for chunk in pd.read_csv(\"used_cars_data.csv\", chunksize=chunk_size):\n",
    "#     chunk.to_csv('used_cars_data' + str(batch_no) + \".csv\", index=False)\n",
    "#     batch_no += 1\n",
    "# print(\"done\")"
   ]
  },
  {
   "cell_type": "code",
   "execution_count": null,
   "metadata": {},
   "outputs": [],
   "source": [
    "# %%time\n",
    "# # print (pd.options.display.max_columns)\n",
    "# # print (pd.options.display.max_rows)\n",
    "# df = dd.read_csv('used_cars_data.csv')"
   ]
  },
  {
   "cell_type": "code",
   "execution_count": null,
   "metadata": {},
   "outputs": [],
   "source": [
    "\n",
    "\n",
    "# Read data from file 'filename.csv' \n",
    "# (in the same directory that your python process is based)\n",
    "# Control delimiters, rows, column names with read_csv (see later) \n",
    "# %%time\n",
    "# data = pd.read_csv(\"used_cars_data1.csv\")\n",
    "# data.head()"
   ]
  },
  {
   "cell_type": "code",
   "execution_count": null,
   "metadata": {},
   "outputs": [],
   "source": [
    "# Preview the first 5 lines of the loaded data \n",
    "# data.columns"
   ]
  },
  {
   "cell_type": "code",
   "execution_count": null,
   "metadata": {},
   "outputs": [],
   "source": [
    "# temp = data[\"make_name\"].unique()"
   ]
  },
  {
   "cell_type": "code",
   "execution_count": null,
   "metadata": {},
   "outputs": [],
   "source": [
    "# temp.sort()"
   ]
  },
  {
   "cell_type": "code",
   "execution_count": null,
   "metadata": {},
   "outputs": [],
   "source": [
    "# print(temp)"
   ]
  },
  {
   "cell_type": "code",
   "execution_count": null,
   "metadata": {},
   "outputs": [],
   "source": [
    "# filter = data[\"make_name\"]==\"Volkswagen\"\n",
    "# filteredData = data[filter]\n"
   ]
  },
  {
   "cell_type": "code",
   "execution_count": null,
   "metadata": {},
   "outputs": [],
   "source": [
    "# data[\"make_name\"].value_counts()"
   ]
  }
 ],
 "metadata": {
  "kernelspec": {
   "display_name": "Python 3",
   "language": "python",
   "name": "python3"
  },
  "language_info": {
   "codemirror_mode": {
    "name": "ipython",
    "version": 3
   },
   "file_extension": ".py",
   "mimetype": "text/x-python",
   "name": "python",
   "nbconvert_exporter": "python",
   "pygments_lexer": "ipython3",
   "version": "3.8.5"
  }
 },
 "nbformat": 4,
 "nbformat_minor": 4
}
